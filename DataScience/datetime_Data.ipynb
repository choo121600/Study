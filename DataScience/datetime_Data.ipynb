{
 "cells": [
  {
   "cell_type": "markdown",
   "id": "e4a7d8fc",
   "metadata": {},
   "source": [
    "# 시계열 데이터"
   ]
  },
  {
   "cell_type": "code",
   "execution_count": 2,
   "id": "cdc8f485",
   "metadata": {
    "ExecuteTime": {
     "end_time": "2022-03-27T18:09:41.639118Z",
     "start_time": "2022-03-27T18:09:41.631140Z"
    }
   },
   "outputs": [],
   "source": [
    "from datetime import datetime\n",
    "import  pandas as pd\n",
    "import numpy as np"
   ]
  },
  {
   "cell_type": "code",
   "execution_count": 3,
   "id": "864d14fa",
   "metadata": {
    "ExecuteTime": {
     "end_time": "2022-03-27T18:09:50.384591Z",
     "start_time": "2022-03-27T18:09:50.364645Z"
    }
   },
   "outputs": [
    {
     "data": {
      "text/html": [
       "<div>\n",
       "<style scoped>\n",
       "    .dataframe tbody tr th:only-of-type {\n",
       "        vertical-align: middle;\n",
       "    }\n",
       "\n",
       "    .dataframe tbody tr th {\n",
       "        vertical-align: top;\n",
       "    }\n",
       "\n",
       "    .dataframe thead th {\n",
       "        text-align: right;\n",
       "    }\n",
       "</style>\n",
       "<table border=\"1\" class=\"dataframe\">\n",
       "  <thead>\n",
       "    <tr style=\"text-align: right;\">\n",
       "      <th></th>\n",
       "      <th>float</th>\n",
       "      <th>int</th>\n",
       "      <th>datetime</th>\n",
       "      <th>string</th>\n",
       "    </tr>\n",
       "  </thead>\n",
       "  <tbody>\n",
       "    <tr>\n",
       "      <th>0</th>\n",
       "      <td>1.0</td>\n",
       "      <td>1</td>\n",
       "      <td>2020-12-02</td>\n",
       "      <td>foo</td>\n",
       "    </tr>\n",
       "  </tbody>\n",
       "</table>\n",
       "</div>"
      ],
      "text/plain": [
       "   float  int   datetime string\n",
       "0    1.0    1 2020-12-02    foo"
      ]
     },
     "execution_count": 3,
     "metadata": {},
     "output_type": "execute_result"
    }
   ],
   "source": [
    "df = pd.DataFrame({'float': [1.0],\n",
    "                   'int': [1],\n",
    "                   'datetime': [pd.Timestamp('20201202')],\n",
    "                   'string': ['foo']})\n",
    "df"
   ]
  },
  {
   "cell_type": "code",
   "execution_count": 4,
   "id": "a8d6e7c7",
   "metadata": {
    "ExecuteTime": {
     "end_time": "2022-03-27T18:09:56.986612Z",
     "start_time": "2022-03-27T18:09:56.967663Z"
    }
   },
   "outputs": [
    {
     "data": {
      "text/plain": [
       "float              float64\n",
       "int                  int64\n",
       "datetime    datetime64[ns]\n",
       "string              object\n",
       "dtype: object"
      ]
     },
     "execution_count": 4,
     "metadata": {},
     "output_type": "execute_result"
    }
   ],
   "source": [
    "df.dtypes"
   ]
  },
  {
   "cell_type": "code",
   "execution_count": 5,
   "id": "d0f4092a",
   "metadata": {
    "ExecuteTime": {
     "end_time": "2022-03-27T18:10:32.960657Z",
     "start_time": "2022-03-27T18:10:32.947692Z"
    }
   },
   "outputs": [
    {
     "name": "stdout",
     "output_type": "stream",
     "text": [
      "<class 'pandas.core.frame.DataFrame'>\n",
      "RangeIndex: 1 entries, 0 to 0\n",
      "Data columns (total 4 columns):\n",
      " #   Column    Non-Null Count  Dtype         \n",
      "---  ------    --------------  -----         \n",
      " 0   float     1 non-null      float64       \n",
      " 1   int       1 non-null      int64         \n",
      " 2   datetime  1 non-null      datetime64[ns]\n",
      " 3   string    1 non-null      object        \n",
      "dtypes: datetime64[ns](1), float64(1), int64(1), object(1)\n",
      "memory usage: 160.0+ bytes\n"
     ]
    }
   ],
   "source": [
    "df.info()"
   ]
  },
  {
   "cell_type": "code",
   "execution_count": 6,
   "id": "f1c81e29",
   "metadata": {
    "ExecuteTime": {
     "end_time": "2022-03-27T18:11:10.670037Z",
     "start_time": "2022-03-27T18:11:10.654079Z"
    }
   },
   "outputs": [
    {
     "data": {
      "text/plain": [
       "{'str_date': ['20190101', '20200311', '20210621'],\n",
       " 'int_date': [2019010, 20200311, 20210621],\n",
       " 'format_date': ['2019/01/01',\n",
       "  '2020-03-11 11:22:33',\n",
       "  '2021/06/21 08:48:52.123456789']}"
      ]
     },
     "execution_count": 6,
     "metadata": {},
     "output_type": "execute_result"
    }
   ],
   "source": [
    "dic_dates = {'str_date':['20190101','20200311','20210621'],\n",
    "             'int_date':[2019010, 20200311, 20210621],\n",
    "             'format_date':['2019/01/01', '2020-03-11 11:22:33', '2021/06/21 08:48:52.123456789']}\n",
    "dic_dates"
   ]
  },
  {
   "cell_type": "code",
   "execution_count": 7,
   "id": "c62fb060",
   "metadata": {
    "ExecuteTime": {
     "end_time": "2022-03-27T18:11:18.145982Z",
     "start_time": "2022-03-27T18:11:18.139997Z"
    }
   },
   "outputs": [
    {
     "data": {
      "text/html": [
       "<div>\n",
       "<style scoped>\n",
       "    .dataframe tbody tr th:only-of-type {\n",
       "        vertical-align: middle;\n",
       "    }\n",
       "\n",
       "    .dataframe tbody tr th {\n",
       "        vertical-align: top;\n",
       "    }\n",
       "\n",
       "    .dataframe thead th {\n",
       "        text-align: right;\n",
       "    }\n",
       "</style>\n",
       "<table border=\"1\" class=\"dataframe\">\n",
       "  <thead>\n",
       "    <tr style=\"text-align: right;\">\n",
       "      <th></th>\n",
       "      <th>str_date</th>\n",
       "      <th>int_date</th>\n",
       "      <th>format_date</th>\n",
       "    </tr>\n",
       "  </thead>\n",
       "  <tbody>\n",
       "    <tr>\n",
       "      <th>0</th>\n",
       "      <td>20190101</td>\n",
       "      <td>2019010</td>\n",
       "      <td>2019/01/01</td>\n",
       "    </tr>\n",
       "    <tr>\n",
       "      <th>1</th>\n",
       "      <td>20200311</td>\n",
       "      <td>20200311</td>\n",
       "      <td>2020-03-11 11:22:33</td>\n",
       "    </tr>\n",
       "    <tr>\n",
       "      <th>2</th>\n",
       "      <td>20210621</td>\n",
       "      <td>20210621</td>\n",
       "      <td>2021/06/21 08:48:52.123456789</td>\n",
       "    </tr>\n",
       "  </tbody>\n",
       "</table>\n",
       "</div>"
      ],
      "text/plain": [
       "   str_date  int_date                    format_date\n",
       "0  20190101   2019010                     2019/01/01\n",
       "1  20200311  20200311            2020-03-11 11:22:33\n",
       "2  20210621  20210621  2021/06/21 08:48:52.123456789"
      ]
     },
     "execution_count": 7,
     "metadata": {},
     "output_type": "execute_result"
    }
   ],
   "source": [
    "df = pd.DataFrame(dic_dates)\n",
    "df"
   ]
  },
  {
   "cell_type": "code",
   "execution_count": 8,
   "id": "32980502",
   "metadata": {
    "ExecuteTime": {
     "end_time": "2022-03-27T18:11:32.233589Z",
     "start_time": "2022-03-27T18:11:32.216646Z"
    }
   },
   "outputs": [
    {
     "name": "stdout",
     "output_type": "stream",
     "text": [
      "<class 'pandas.core.frame.DataFrame'>\n",
      "RangeIndex: 3 entries, 0 to 2\n",
      "Data columns (total 3 columns):\n",
      " #   Column       Non-Null Count  Dtype \n",
      "---  ------       --------------  ----- \n",
      " 0   str_date     3 non-null      object\n",
      " 1   int_date     3 non-null      int64 \n",
      " 2   format_date  3 non-null      object\n",
      "dtypes: int64(1), object(2)\n",
      "memory usage: 200.0+ bytes\n"
     ]
    }
   ],
   "source": [
    "df.info()"
   ]
  },
  {
   "cell_type": "markdown",
   "id": "62033ae4",
   "metadata": {},
   "source": [
    "## to_datetime()"
   ]
  },
  {
   "cell_type": "code",
   "execution_count": 9,
   "id": "f5734687",
   "metadata": {
    "ExecuteTime": {
     "end_time": "2022-03-27T18:11:38.205548Z",
     "start_time": "2022-03-27T18:11:38.190589Z"
    }
   },
   "outputs": [
    {
     "data": {
      "text/plain": [
       "0   2019-01-01\n",
       "1   2020-03-11\n",
       "2   2021-06-21\n",
       "Name: str_date, dtype: datetime64[ns]"
      ]
     },
     "execution_count": 9,
     "metadata": {},
     "output_type": "execute_result"
    }
   ],
   "source": [
    "df['str_date'] = pd.to_datetime(df['str_date'])\n",
    "df['str_date']"
   ]
  },
  {
   "cell_type": "markdown",
   "id": "bc8bcce5",
   "metadata": {},
   "source": [
    "## astype()"
   ]
  },
  {
   "cell_type": "code",
   "execution_count": 10,
   "id": "a1bfc005",
   "metadata": {
    "ExecuteTime": {
     "end_time": "2022-03-27T18:15:27.570606Z",
     "start_time": "2022-03-27T18:15:27.556644Z"
    }
   },
   "outputs": [
    {
     "data": {
      "text/plain": [
       "0   2019-01-01\n",
       "1   2020-03-11\n",
       "2   2021-06-21\n",
       "Name: str_date, dtype: datetime64[ns]"
      ]
     },
     "execution_count": 10,
     "metadata": {},
     "output_type": "execute_result"
    }
   ],
   "source": [
    "df['str_date'] = df['str_date'].astype('datetime64[ns]')\n",
    "df['str_date']"
   ]
  },
  {
   "cell_type": "code",
   "execution_count": 11,
   "id": "07fa7d7b",
   "metadata": {
    "ExecuteTime": {
     "end_time": "2022-03-27T18:15:33.622025Z",
     "start_time": "2022-03-27T18:15:33.610057Z"
    }
   },
   "outputs": [
    {
     "data": {
      "text/plain": [
       "0   1970-01-01 00:00:00.002019010\n",
       "1   1970-01-01 00:00:00.020200311\n",
       "2   1970-01-01 00:00:00.020210621\n",
       "Name: int_date, dtype: datetime64[ns]"
      ]
     },
     "execution_count": 11,
     "metadata": {},
     "output_type": "execute_result"
    }
   ],
   "source": [
    "df['int_date'] = df['int_date'].astype('datetime64[ns]')\n",
    "df['int_date']"
   ]
  },
  {
   "cell_type": "code",
   "execution_count": 12,
   "id": "aaf73896",
   "metadata": {
    "ExecuteTime": {
     "end_time": "2022-03-27T18:15:39.454149Z",
     "start_time": "2022-03-27T18:15:39.442181Z"
    }
   },
   "outputs": [
    {
     "data": {
      "text/plain": [
       "0   2019-01-01 00:00:00.000000000\n",
       "1   2020-03-11 11:22:33.000000000\n",
       "2   2021-06-21 08:48:52.123456789\n",
       "Name: format_date, dtype: datetime64[ns]"
      ]
     },
     "execution_count": 12,
     "metadata": {},
     "output_type": "execute_result"
    }
   ],
   "source": [
    "df['format_date'] = df['format_date'].astype('datetime64[ns]')\n",
    "df['format_date']"
   ]
  },
  {
   "cell_type": "code",
   "execution_count": 13,
   "id": "2903e8a3",
   "metadata": {
    "ExecuteTime": {
     "end_time": "2022-03-27T18:16:05.703295Z",
     "start_time": "2022-03-27T18:16:05.692324Z"
    }
   },
   "outputs": [
    {
     "data": {
      "text/html": [
       "<div>\n",
       "<style scoped>\n",
       "    .dataframe tbody tr th:only-of-type {\n",
       "        vertical-align: middle;\n",
       "    }\n",
       "\n",
       "    .dataframe tbody tr th {\n",
       "        vertical-align: top;\n",
       "    }\n",
       "\n",
       "    .dataframe thead th {\n",
       "        text-align: right;\n",
       "    }\n",
       "</style>\n",
       "<table border=\"1\" class=\"dataframe\">\n",
       "  <thead>\n",
       "    <tr style=\"text-align: right;\">\n",
       "      <th></th>\n",
       "      <th>str_date</th>\n",
       "      <th>int_date</th>\n",
       "      <th>format_date</th>\n",
       "    </tr>\n",
       "  </thead>\n",
       "  <tbody>\n",
       "    <tr>\n",
       "      <th>0</th>\n",
       "      <td>2019-01-01</td>\n",
       "      <td>1970-01-01 00:00:00.002019010</td>\n",
       "      <td>2019-01-01 00:00:00.000000000</td>\n",
       "    </tr>\n",
       "    <tr>\n",
       "      <th>1</th>\n",
       "      <td>2020-03-11</td>\n",
       "      <td>1970-01-01 00:00:00.020200311</td>\n",
       "      <td>2020-03-11 11:22:33.000000000</td>\n",
       "    </tr>\n",
       "    <tr>\n",
       "      <th>2</th>\n",
       "      <td>2021-06-21</td>\n",
       "      <td>1970-01-01 00:00:00.020210621</td>\n",
       "      <td>2021-06-21 08:48:52.123456789</td>\n",
       "    </tr>\n",
       "  </tbody>\n",
       "</table>\n",
       "</div>"
      ],
      "text/plain": [
       "    str_date                      int_date                   format_date\n",
       "0 2019-01-01 1970-01-01 00:00:00.002019010 2019-01-01 00:00:00.000000000\n",
       "1 2020-03-11 1970-01-01 00:00:00.020200311 2020-03-11 11:22:33.000000000\n",
       "2 2021-06-21 1970-01-01 00:00:00.020210621 2021-06-21 08:48:52.123456789"
      ]
     },
     "execution_count": 13,
     "metadata": {},
     "output_type": "execute_result"
    }
   ],
   "source": [
    "df"
   ]
  },
  {
   "cell_type": "code",
   "execution_count": 14,
   "id": "00ff9cc0",
   "metadata": {
    "ExecuteTime": {
     "end_time": "2022-03-27T18:28:11.937506Z",
     "start_time": "2022-03-27T18:28:11.922547Z"
    }
   },
   "outputs": [
    {
     "data": {
      "text/html": [
       "<div>\n",
       "<style scoped>\n",
       "    .dataframe tbody tr th:only-of-type {\n",
       "        vertical-align: middle;\n",
       "    }\n",
       "\n",
       "    .dataframe tbody tr th {\n",
       "        vertical-align: top;\n",
       "    }\n",
       "\n",
       "    .dataframe thead th {\n",
       "        text-align: right;\n",
       "    }\n",
       "</style>\n",
       "<table border=\"1\" class=\"dataframe\">\n",
       "  <thead>\n",
       "    <tr style=\"text-align: right;\">\n",
       "      <th></th>\n",
       "      <th>format_date</th>\n",
       "    </tr>\n",
       "  </thead>\n",
       "  <tbody>\n",
       "    <tr>\n",
       "      <th>0</th>\n",
       "      <td>2019-01-01 00:00:00.000000000</td>\n",
       "    </tr>\n",
       "    <tr>\n",
       "      <th>1</th>\n",
       "      <td>2020-03-11 11:22:33.000000000</td>\n",
       "    </tr>\n",
       "    <tr>\n",
       "      <th>2</th>\n",
       "      <td>2021-06-21 08:48:52.123456789</td>\n",
       "    </tr>\n",
       "  </tbody>\n",
       "</table>\n",
       "</div>"
      ],
      "text/plain": [
       "                    format_date\n",
       "0 2019-01-01 00:00:00.000000000\n",
       "1 2020-03-11 11:22:33.000000000\n",
       "2 2021-06-21 08:48:52.123456789"
      ]
     },
     "execution_count": 14,
     "metadata": {},
     "output_type": "execute_result"
    }
   ],
   "source": [
    "del df['int_date'], df['str_date']\n",
    "df"
   ]
  },
  {
   "cell_type": "markdown",
   "id": "791c3b27",
   "metadata": {},
   "source": [
    "## 년/월/일, 시/분/초 분리"
   ]
  },
  {
   "cell_type": "code",
   "execution_count": 15,
   "id": "259e309a",
   "metadata": {
    "ExecuteTime": {
     "end_time": "2022-03-27T18:29:09.857535Z",
     "start_time": "2022-03-27T18:29:09.838585Z"
    }
   },
   "outputs": [
    {
     "data": {
      "text/html": [
       "<div>\n",
       "<style scoped>\n",
       "    .dataframe tbody tr th:only-of-type {\n",
       "        vertical-align: middle;\n",
       "    }\n",
       "\n",
       "    .dataframe tbody tr th {\n",
       "        vertical-align: top;\n",
       "    }\n",
       "\n",
       "    .dataframe thead th {\n",
       "        text-align: right;\n",
       "    }\n",
       "</style>\n",
       "<table border=\"1\" class=\"dataframe\">\n",
       "  <thead>\n",
       "    <tr style=\"text-align: right;\">\n",
       "      <th></th>\n",
       "      <th>format_date</th>\n",
       "      <th>year</th>\n",
       "      <th>month</th>\n",
       "      <th>day</th>\n",
       "    </tr>\n",
       "  </thead>\n",
       "  <tbody>\n",
       "    <tr>\n",
       "      <th>0</th>\n",
       "      <td>2019-01-01 00:00:00.000000000</td>\n",
       "      <td>2019</td>\n",
       "      <td>1</td>\n",
       "      <td>1</td>\n",
       "    </tr>\n",
       "    <tr>\n",
       "      <th>1</th>\n",
       "      <td>2020-03-11 11:22:33.000000000</td>\n",
       "      <td>2020</td>\n",
       "      <td>3</td>\n",
       "      <td>11</td>\n",
       "    </tr>\n",
       "    <tr>\n",
       "      <th>2</th>\n",
       "      <td>2021-06-21 08:48:52.123456789</td>\n",
       "      <td>2021</td>\n",
       "      <td>6</td>\n",
       "      <td>21</td>\n",
       "    </tr>\n",
       "  </tbody>\n",
       "</table>\n",
       "</div>"
      ],
      "text/plain": [
       "                    format_date  year  month  day\n",
       "0 2019-01-01 00:00:00.000000000  2019      1    1\n",
       "1 2020-03-11 11:22:33.000000000  2020      3   11\n",
       "2 2021-06-21 08:48:52.123456789  2021      6   21"
      ]
     },
     "execution_count": 15,
     "metadata": {},
     "output_type": "execute_result"
    }
   ],
   "source": [
    "df['year'] = df['format_date'].dt.year\n",
    "df['month'] = df['format_date'].dt.month\n",
    "df['day'] = df['format_date'].dt.day\n",
    "df"
   ]
  },
  {
   "cell_type": "code",
   "execution_count": 16,
   "id": "e72cbe9a",
   "metadata": {
    "ExecuteTime": {
     "end_time": "2022-03-27T18:29:43.128532Z",
     "start_time": "2022-03-27T18:29:43.118559Z"
    }
   },
   "outputs": [
    {
     "data": {
      "text/html": [
       "<div>\n",
       "<style scoped>\n",
       "    .dataframe tbody tr th:only-of-type {\n",
       "        vertical-align: middle;\n",
       "    }\n",
       "\n",
       "    .dataframe tbody tr th {\n",
       "        vertical-align: top;\n",
       "    }\n",
       "\n",
       "    .dataframe thead th {\n",
       "        text-align: right;\n",
       "    }\n",
       "</style>\n",
       "<table border=\"1\" class=\"dataframe\">\n",
       "  <thead>\n",
       "    <tr style=\"text-align: right;\">\n",
       "      <th></th>\n",
       "      <th>format_date</th>\n",
       "      <th>year</th>\n",
       "      <th>month</th>\n",
       "      <th>day</th>\n",
       "      <th>hour</th>\n",
       "      <th>minute</th>\n",
       "      <th>sec</th>\n",
       "    </tr>\n",
       "  </thead>\n",
       "  <tbody>\n",
       "    <tr>\n",
       "      <th>0</th>\n",
       "      <td>2019-01-01 00:00:00.000000000</td>\n",
       "      <td>2019</td>\n",
       "      <td>1</td>\n",
       "      <td>1</td>\n",
       "      <td>0</td>\n",
       "      <td>0</td>\n",
       "      <td>0</td>\n",
       "    </tr>\n",
       "    <tr>\n",
       "      <th>1</th>\n",
       "      <td>2020-03-11 11:22:33.000000000</td>\n",
       "      <td>2020</td>\n",
       "      <td>3</td>\n",
       "      <td>11</td>\n",
       "      <td>11</td>\n",
       "      <td>22</td>\n",
       "      <td>33</td>\n",
       "    </tr>\n",
       "    <tr>\n",
       "      <th>2</th>\n",
       "      <td>2021-06-21 08:48:52.123456789</td>\n",
       "      <td>2021</td>\n",
       "      <td>6</td>\n",
       "      <td>21</td>\n",
       "      <td>8</td>\n",
       "      <td>48</td>\n",
       "      <td>52</td>\n",
       "    </tr>\n",
       "  </tbody>\n",
       "</table>\n",
       "</div>"
      ],
      "text/plain": [
       "                    format_date  year  month  day  hour  minute  sec\n",
       "0 2019-01-01 00:00:00.000000000  2019      1    1     0       0    0\n",
       "1 2020-03-11 11:22:33.000000000  2020      3   11    11      22   33\n",
       "2 2021-06-21 08:48:52.123456789  2021      6   21     8      48   52"
      ]
     },
     "execution_count": 16,
     "metadata": {},
     "output_type": "execute_result"
    }
   ],
   "source": [
    "df['hour'] = df['format_date'].dt.hour\n",
    "df['minute'] = df['format_date'].dt.minute\n",
    "df['sec'] = df['format_date'].dt.second\n",
    "df"
   ]
  },
  {
   "cell_type": "markdown",
   "id": "bda961be",
   "metadata": {},
   "source": [
    "## to_period\n",
    "- 특정 빈도의 period index로 변환"
   ]
  },
  {
   "cell_type": "code",
   "execution_count": 17,
   "id": "629b6b36",
   "metadata": {
    "ExecuteTime": {
     "end_time": "2022-03-27T18:30:17.224394Z",
     "start_time": "2022-03-27T18:30:17.194474Z"
    }
   },
   "outputs": [
    {
     "data": {
      "text/html": [
       "<div>\n",
       "<style scoped>\n",
       "    .dataframe tbody tr th:only-of-type {\n",
       "        vertical-align: middle;\n",
       "    }\n",
       "\n",
       "    .dataframe tbody tr th {\n",
       "        vertical-align: top;\n",
       "    }\n",
       "\n",
       "    .dataframe thead th {\n",
       "        text-align: right;\n",
       "    }\n",
       "</style>\n",
       "<table border=\"1\" class=\"dataframe\">\n",
       "  <thead>\n",
       "    <tr style=\"text-align: right;\">\n",
       "      <th></th>\n",
       "      <th>format_date</th>\n",
       "      <th>year</th>\n",
       "      <th>month</th>\n",
       "      <th>day</th>\n",
       "      <th>hour</th>\n",
       "      <th>minute</th>\n",
       "      <th>sec</th>\n",
       "      <th>to_year</th>\n",
       "      <th>to_month</th>\n",
       "      <th>to_day</th>\n",
       "      <th>to_quarter</th>\n",
       "      <th>to_week</th>\n",
       "    </tr>\n",
       "  </thead>\n",
       "  <tbody>\n",
       "    <tr>\n",
       "      <th>0</th>\n",
       "      <td>2019-01-01 00:00:00.000000000</td>\n",
       "      <td>2019</td>\n",
       "      <td>1</td>\n",
       "      <td>1</td>\n",
       "      <td>0</td>\n",
       "      <td>0</td>\n",
       "      <td>0</td>\n",
       "      <td>2019</td>\n",
       "      <td>2019-01</td>\n",
       "      <td>2019-01-01</td>\n",
       "      <td>2019Q1</td>\n",
       "      <td>2018-12-31/2019-01-06</td>\n",
       "    </tr>\n",
       "    <tr>\n",
       "      <th>1</th>\n",
       "      <td>2020-03-11 11:22:33.000000000</td>\n",
       "      <td>2020</td>\n",
       "      <td>3</td>\n",
       "      <td>11</td>\n",
       "      <td>11</td>\n",
       "      <td>22</td>\n",
       "      <td>33</td>\n",
       "      <td>2020</td>\n",
       "      <td>2020-03</td>\n",
       "      <td>2020-03-11</td>\n",
       "      <td>2020Q1</td>\n",
       "      <td>2020-03-09/2020-03-15</td>\n",
       "    </tr>\n",
       "    <tr>\n",
       "      <th>2</th>\n",
       "      <td>2021-06-21 08:48:52.123456789</td>\n",
       "      <td>2021</td>\n",
       "      <td>6</td>\n",
       "      <td>21</td>\n",
       "      <td>8</td>\n",
       "      <td>48</td>\n",
       "      <td>52</td>\n",
       "      <td>2021</td>\n",
       "      <td>2021-06</td>\n",
       "      <td>2021-06-21</td>\n",
       "      <td>2021Q2</td>\n",
       "      <td>2021-06-21/2021-06-27</td>\n",
       "    </tr>\n",
       "  </tbody>\n",
       "</table>\n",
       "</div>"
      ],
      "text/plain": [
       "                    format_date  year  month  day  hour  minute  sec to_year  \\\n",
       "0 2019-01-01 00:00:00.000000000  2019      1    1     0       0    0    2019   \n",
       "1 2020-03-11 11:22:33.000000000  2020      3   11    11      22   33    2020   \n",
       "2 2021-06-21 08:48:52.123456789  2021      6   21     8      48   52    2021   \n",
       "\n",
       "  to_month      to_day to_quarter                to_week  \n",
       "0  2019-01  2019-01-01     2019Q1  2018-12-31/2019-01-06  \n",
       "1  2020-03  2020-03-11     2020Q1  2020-03-09/2020-03-15  \n",
       "2  2021-06  2021-06-21     2021Q2  2021-06-21/2021-06-27  "
      ]
     },
     "execution_count": 17,
     "metadata": {},
     "output_type": "execute_result"
    }
   ],
   "source": [
    "df['to_year'] = df['format_date'].dt.to_period(freq = 'A')\n",
    "df['to_month'] = df['format_date'].dt.to_period(freq = 'M')\n",
    "df['to_day'] = df['format_date'].dt.to_period(freq = 'D')\n",
    "df['to_quarter'] = df['format_date'].dt.to_period(freq = 'Q')\n",
    "df['to_week'] = df['format_date'].dt.to_period(freq = 'W')\n",
    "df"
   ]
  },
  {
   "cell_type": "code",
   "execution_count": 18,
   "id": "3853aef4",
   "metadata": {
    "ExecuteTime": {
     "end_time": "2022-03-27T18:31:22.625808Z",
     "start_time": "2022-03-27T18:31:22.614838Z"
    }
   },
   "outputs": [
    {
     "name": "stdout",
     "output_type": "stream",
     "text": [
      "<class 'pandas.core.frame.DataFrame'>\n",
      "RangeIndex: 3 entries, 0 to 2\n",
      "Data columns (total 12 columns):\n",
      " #   Column       Non-Null Count  Dtype         \n",
      "---  ------       --------------  -----         \n",
      " 0   format_date  3 non-null      datetime64[ns]\n",
      " 1   year         3 non-null      int64         \n",
      " 2   month        3 non-null      int64         \n",
      " 3   day          3 non-null      int64         \n",
      " 4   hour         3 non-null      int64         \n",
      " 5   minute       3 non-null      int64         \n",
      " 6   sec          3 non-null      int64         \n",
      " 7   to_year      3 non-null      period[A-DEC] \n",
      " 8   to_month     3 non-null      period[M]     \n",
      " 9   to_day       3 non-null      period[D]     \n",
      " 10  to_quarter   3 non-null      period[Q-DEC] \n",
      " 11  to_week      3 non-null      period[W-SUN] \n",
      "dtypes: datetime64[ns](1), int64(6), period[A-DEC](1), period[D](1), period[M](1), period[Q-DEC](1), period[W-SUN](1)\n",
      "memory usage: 416.0 bytes\n"
     ]
    }
   ],
   "source": [
    "df.info()"
   ]
  },
  {
   "cell_type": "code",
   "execution_count": 19,
   "id": "6d7308e6",
   "metadata": {
    "ExecuteTime": {
     "end_time": "2022-03-27T18:31:34.469149Z",
     "start_time": "2022-03-27T18:31:34.448204Z"
    }
   },
   "outputs": [
    {
     "data": {
      "text/html": [
       "<div>\n",
       "<style scoped>\n",
       "    .dataframe tbody tr th:only-of-type {\n",
       "        vertical-align: middle;\n",
       "    }\n",
       "\n",
       "    .dataframe tbody tr th {\n",
       "        vertical-align: top;\n",
       "    }\n",
       "\n",
       "    .dataframe thead th {\n",
       "        text-align: right;\n",
       "    }\n",
       "</style>\n",
       "<table border=\"1\" class=\"dataframe\">\n",
       "  <thead>\n",
       "    <tr style=\"text-align: right;\">\n",
       "      <th></th>\n",
       "      <th>format_date</th>\n",
       "    </tr>\n",
       "  </thead>\n",
       "  <tbody>\n",
       "    <tr>\n",
       "      <th>0</th>\n",
       "      <td>2019-01-01 00:00:00.000000000</td>\n",
       "    </tr>\n",
       "    <tr>\n",
       "      <th>1</th>\n",
       "      <td>2020-03-11 11:22:33.000000000</td>\n",
       "    </tr>\n",
       "    <tr>\n",
       "      <th>2</th>\n",
       "      <td>2021-06-21 08:48:52.123456789</td>\n",
       "    </tr>\n",
       "  </tbody>\n",
       "</table>\n",
       "</div>"
      ],
      "text/plain": [
       "                    format_date\n",
       "0 2019-01-01 00:00:00.000000000\n",
       "1 2020-03-11 11:22:33.000000000\n",
       "2 2021-06-21 08:48:52.123456789"
      ]
     },
     "execution_count": 19,
     "metadata": {},
     "output_type": "execute_result"
    }
   ],
   "source": [
    "del df['year'], df['month'], df['day'], df['hour'], df['minute'], df['sec'], df['to_year'], df['to_month'], df['to_day'], df['to_quarter'], df['to_week']\n",
    "df"
   ]
  },
  {
   "cell_type": "markdown",
   "id": "b4aca78e",
   "metadata": {},
   "source": [
    "## month_name()"
   ]
  },
  {
   "cell_type": "code",
   "execution_count": 20,
   "id": "7e91d9c2",
   "metadata": {
    "ExecuteTime": {
     "end_time": "2022-03-27T18:32:06.639859Z",
     "start_time": "2022-03-27T18:32:06.627891Z"
    }
   },
   "outputs": [
    {
     "data": {
      "text/html": [
       "<div>\n",
       "<style scoped>\n",
       "    .dataframe tbody tr th:only-of-type {\n",
       "        vertical-align: middle;\n",
       "    }\n",
       "\n",
       "    .dataframe tbody tr th {\n",
       "        vertical-align: top;\n",
       "    }\n",
       "\n",
       "    .dataframe thead th {\n",
       "        text-align: right;\n",
       "    }\n",
       "</style>\n",
       "<table border=\"1\" class=\"dataframe\">\n",
       "  <thead>\n",
       "    <tr style=\"text-align: right;\">\n",
       "      <th></th>\n",
       "      <th>format_date</th>\n",
       "      <th>month_name</th>\n",
       "    </tr>\n",
       "  </thead>\n",
       "  <tbody>\n",
       "    <tr>\n",
       "      <th>0</th>\n",
       "      <td>2019-01-01 00:00:00.000000000</td>\n",
       "      <td>January</td>\n",
       "    </tr>\n",
       "    <tr>\n",
       "      <th>1</th>\n",
       "      <td>2020-03-11 11:22:33.000000000</td>\n",
       "      <td>March</td>\n",
       "    </tr>\n",
       "    <tr>\n",
       "      <th>2</th>\n",
       "      <td>2021-06-21 08:48:52.123456789</td>\n",
       "      <td>June</td>\n",
       "    </tr>\n",
       "  </tbody>\n",
       "</table>\n",
       "</div>"
      ],
      "text/plain": [
       "                    format_date month_name\n",
       "0 2019-01-01 00:00:00.000000000    January\n",
       "1 2020-03-11 11:22:33.000000000      March\n",
       "2 2021-06-21 08:48:52.123456789       June"
      ]
     },
     "execution_count": 20,
     "metadata": {},
     "output_type": "execute_result"
    }
   ],
   "source": [
    "df['month_name'] = df['format_date'].dt.month_name()\n",
    "df"
   ]
  },
  {
   "cell_type": "markdown",
   "id": "ec1b4d60",
   "metadata": {},
   "source": [
    "## day_name()"
   ]
  },
  {
   "cell_type": "code",
   "execution_count": 21,
   "id": "04dc010c",
   "metadata": {
    "ExecuteTime": {
     "end_time": "2022-03-27T18:32:11.604926Z",
     "start_time": "2022-03-27T18:32:11.593956Z"
    }
   },
   "outputs": [
    {
     "data": {
      "text/html": [
       "<div>\n",
       "<style scoped>\n",
       "    .dataframe tbody tr th:only-of-type {\n",
       "        vertical-align: middle;\n",
       "    }\n",
       "\n",
       "    .dataframe tbody tr th {\n",
       "        vertical-align: top;\n",
       "    }\n",
       "\n",
       "    .dataframe thead th {\n",
       "        text-align: right;\n",
       "    }\n",
       "</style>\n",
       "<table border=\"1\" class=\"dataframe\">\n",
       "  <thead>\n",
       "    <tr style=\"text-align: right;\">\n",
       "      <th></th>\n",
       "      <th>format_date</th>\n",
       "      <th>month_name</th>\n",
       "      <th>weekday_name</th>\n",
       "    </tr>\n",
       "  </thead>\n",
       "  <tbody>\n",
       "    <tr>\n",
       "      <th>0</th>\n",
       "      <td>2019-01-01 00:00:00.000000000</td>\n",
       "      <td>January</td>\n",
       "      <td>Tuesday</td>\n",
       "    </tr>\n",
       "    <tr>\n",
       "      <th>1</th>\n",
       "      <td>2020-03-11 11:22:33.000000000</td>\n",
       "      <td>March</td>\n",
       "      <td>Wednesday</td>\n",
       "    </tr>\n",
       "    <tr>\n",
       "      <th>2</th>\n",
       "      <td>2021-06-21 08:48:52.123456789</td>\n",
       "      <td>June</td>\n",
       "      <td>Monday</td>\n",
       "    </tr>\n",
       "  </tbody>\n",
       "</table>\n",
       "</div>"
      ],
      "text/plain": [
       "                    format_date month_name weekday_name\n",
       "0 2019-01-01 00:00:00.000000000    January      Tuesday\n",
       "1 2020-03-11 11:22:33.000000000      March    Wednesday\n",
       "2 2021-06-21 08:48:52.123456789       June       Monday"
      ]
     },
     "execution_count": 21,
     "metadata": {},
     "output_type": "execute_result"
    }
   ],
   "source": [
    "df['weekday_name'] = df['format_date'].dt.day_name()\n",
    "df"
   ]
  },
  {
   "cell_type": "markdown",
   "id": "e12a7415",
   "metadata": {},
   "source": [
    "## set_index()\n",
    "- 해당 열을 인덱스로 만들기"
   ]
  },
  {
   "cell_type": "code",
   "execution_count": 22,
   "id": "8e2ddd40",
   "metadata": {
    "ExecuteTime": {
     "end_time": "2022-03-27T18:32:40.595973Z",
     "start_time": "2022-03-27T18:32:40.577023Z"
    }
   },
   "outputs": [
    {
     "data": {
      "text/html": [
       "<div>\n",
       "<style scoped>\n",
       "    .dataframe tbody tr th:only-of-type {\n",
       "        vertical-align: middle;\n",
       "    }\n",
       "\n",
       "    .dataframe tbody tr th {\n",
       "        vertical-align: top;\n",
       "    }\n",
       "\n",
       "    .dataframe thead th {\n",
       "        text-align: right;\n",
       "    }\n",
       "</style>\n",
       "<table border=\"1\" class=\"dataframe\">\n",
       "  <thead>\n",
       "    <tr style=\"text-align: right;\">\n",
       "      <th></th>\n",
       "      <th>month_name</th>\n",
       "      <th>weekday_name</th>\n",
       "    </tr>\n",
       "    <tr>\n",
       "      <th>format_date</th>\n",
       "      <th></th>\n",
       "      <th></th>\n",
       "    </tr>\n",
       "  </thead>\n",
       "  <tbody>\n",
       "    <tr>\n",
       "      <th>2019-01-01 00:00:00.000000000</th>\n",
       "      <td>January</td>\n",
       "      <td>Tuesday</td>\n",
       "    </tr>\n",
       "    <tr>\n",
       "      <th>2020-03-11 11:22:33.000000000</th>\n",
       "      <td>March</td>\n",
       "      <td>Wednesday</td>\n",
       "    </tr>\n",
       "    <tr>\n",
       "      <th>2021-06-21 08:48:52.123456789</th>\n",
       "      <td>June</td>\n",
       "      <td>Monday</td>\n",
       "    </tr>\n",
       "  </tbody>\n",
       "</table>\n",
       "</div>"
      ],
      "text/plain": [
       "                              month_name weekday_name\n",
       "format_date                                          \n",
       "2019-01-01 00:00:00.000000000    January      Tuesday\n",
       "2020-03-11 11:22:33.000000000      March    Wednesday\n",
       "2021-06-21 08:48:52.123456789       June       Monday"
      ]
     },
     "execution_count": 22,
     "metadata": {},
     "output_type": "execute_result"
    }
   ],
   "source": [
    "df.set_index('format_date',inplace=True)\n",
    "df"
   ]
  },
  {
   "cell_type": "markdown",
   "id": "72c80422",
   "metadata": {},
   "source": [
    " ## date_range(시작일, periods(생성일수), freq(기본값='D'))"
   ]
  },
  {
   "cell_type": "code",
   "execution_count": 23,
   "id": "30feefa1",
   "metadata": {
    "ExecuteTime": {
     "end_time": "2022-03-27T18:34:03.881223Z",
     "start_time": "2022-03-27T18:34:03.862273Z"
    }
   },
   "outputs": [
    {
     "data": {
      "text/plain": [
       "DatetimeIndex(['2019-01-01', '2019-01-02', '2019-01-03', '2019-01-04',\n",
       "               '2019-01-05', '2019-01-06', '2019-01-07', '2019-01-08',\n",
       "               '2019-01-09', '2019-01-10'],\n",
       "              dtype='datetime64[ns]', freq='D')"
      ]
     },
     "execution_count": 23,
     "metadata": {},
     "output_type": "execute_result"
    }
   ],
   "source": [
    "ex_df = pd.date_range('1/1/2019',periods=10)\n",
    "ex_df"
   ]
  },
  {
   "cell_type": "code",
   "execution_count": 24,
   "id": "20e79a28",
   "metadata": {
    "ExecuteTime": {
     "end_time": "2022-03-27T18:34:17.776016Z",
     "start_time": "2022-03-27T18:34:17.762053Z"
    }
   },
   "outputs": [
    {
     "data": {
      "text/plain": [
       "DatetimeIndex(['2019-01-06', '2019-01-13', '2019-01-20', '2019-01-27',\n",
       "               '2019-02-03', '2019-02-10', '2019-02-17', '2019-02-24',\n",
       "               '2019-03-03', '2019-03-10'],\n",
       "              dtype='datetime64[ns]', freq='W-SUN')"
      ]
     },
     "execution_count": 24,
     "metadata": {},
     "output_type": "execute_result"
    }
   ],
   "source": [
    "ex_df = pd.date_range('1/1/2019',periods=10, freq='W')\n",
    "ex_df"
   ]
  },
  {
   "cell_type": "code",
   "execution_count": 25,
   "id": "aa866c81",
   "metadata": {
    "ExecuteTime": {
     "end_time": "2022-03-27T18:36:26.760127Z",
     "start_time": "2022-03-27T18:36:26.740180Z"
    }
   },
   "outputs": [
    {
     "data": {
      "text/plain": [
       "DatetimeIndex(['2019-01-06', '2019-01-13', '2019-01-20', '2019-01-27',\n",
       "               '2019-02-03', '2019-02-10', '2019-02-17', '2019-02-24',\n",
       "               '2019-03-03', '2019-03-10',\n",
       "               ...\n",
       "               '2020-10-25', '2020-11-01', '2020-11-08', '2020-11-15',\n",
       "               '2020-11-22', '2020-11-29', '2020-12-06', '2020-12-13',\n",
       "               '2020-12-20', '2020-12-27'],\n",
       "              dtype='datetime64[ns]', length=104, freq='W-SUN')"
      ]
     },
     "execution_count": 25,
     "metadata": {},
     "output_type": "execute_result"
    }
   ],
   "source": [
    "ex_df = pd.date_range('1/1/2019','12/31/2020', freq='W')\n",
    "ex_df"
   ]
  },
  {
   "cell_type": "code",
   "execution_count": 26,
   "id": "fb425003",
   "metadata": {
    "ExecuteTime": {
     "end_time": "2022-03-27T18:36:37.132826Z",
     "start_time": "2022-03-27T18:36:37.122853Z"
    }
   },
   "outputs": [
    {
     "data": {
      "text/plain": [
       "DatetimeIndex(['2019-01-31', '2019-02-28', '2019-03-31', '2019-04-30',\n",
       "               '2019-05-31', '2019-06-30', '2019-07-31', '2019-08-31',\n",
       "               '2019-09-30', '2019-10-31', '2019-11-30', '2019-12-31'],\n",
       "              dtype='datetime64[ns]', freq='M')"
      ]
     },
     "execution_count": 26,
     "metadata": {},
     "output_type": "execute_result"
    }
   ],
   "source": [
    "ex_df = pd.date_range('2019/1/1','2019/12/31', freq='M')\n",
    "ex_df"
   ]
  },
  {
   "cell_type": "markdown",
   "id": "389d8fa6",
   "metadata": {},
   "source": [
    "## 슬라이싱"
   ]
  },
  {
   "cell_type": "code",
   "execution_count": 27,
   "id": "d0ac2476",
   "metadata": {
    "ExecuteTime": {
     "end_time": "2022-03-27T18:37:10.232176Z",
     "start_time": "2022-03-27T18:37:10.225182Z"
    }
   },
   "outputs": [
    {
     "data": {
      "text/plain": [
       "2019-01-01    912\n",
       "2019-01-02    804\n",
       "2019-01-03    183\n",
       "2019-01-04    901\n",
       "2019-01-05    732\n",
       "             ... \n",
       "2021-09-22    736\n",
       "2021-09-23    129\n",
       "2021-09-24    454\n",
       "2021-09-25    128\n",
       "2021-09-26    105\n",
       "Freq: D, Length: 1000, dtype: int32"
      ]
     },
     "execution_count": 27,
     "metadata": {},
     "output_type": "execute_result"
    }
   ],
   "source": [
    "longer_df = pd.Series(np.random.permutation(1000), index=pd.date_range('1/1/2019',periods=1000))\n",
    "longer_df"
   ]
  },
  {
   "cell_type": "code",
   "execution_count": 28,
   "id": "f8d6ca50",
   "metadata": {
    "ExecuteTime": {
     "end_time": "2022-03-27T18:37:16.214264Z",
     "start_time": "2022-03-27T18:37:16.204291Z"
    }
   },
   "outputs": [
    {
     "data": {
      "text/plain": [
       "2019-01-01    912\n",
       "2019-01-02    804\n",
       "2019-01-03    183\n",
       "2019-01-04    901\n",
       "2019-01-05    732\n",
       "             ... \n",
       "2019-12-27    216\n",
       "2019-12-28    787\n",
       "2019-12-29    963\n",
       "2019-12-30    284\n",
       "2019-12-31     51\n",
       "Freq: D, Length: 365, dtype: int32"
      ]
     },
     "execution_count": 28,
     "metadata": {},
     "output_type": "execute_result"
    }
   ],
   "source": [
    "longer_df.loc['2019']"
   ]
  },
  {
   "cell_type": "code",
   "execution_count": 29,
   "id": "06390cd4",
   "metadata": {
    "ExecuteTime": {
     "end_time": "2022-03-27T18:37:35.598718Z",
     "start_time": "2022-03-27T18:37:35.588745Z"
    }
   },
   "outputs": [
    {
     "data": {
      "text/plain": [
       "2019-02-01    990\n",
       "2019-02-02    478\n",
       "2019-02-03    768\n",
       "2019-02-04    976\n",
       "2019-02-05    603\n",
       "2019-02-06    808\n",
       "2019-02-07    286\n",
       "2019-02-08    696\n",
       "2019-02-09    149\n",
       "2019-02-10    954\n",
       "2019-02-11    428\n",
       "2019-02-12    523\n",
       "2019-02-13    688\n",
       "2019-02-14    583\n",
       "2019-02-15    729\n",
       "2019-02-16    112\n",
       "2019-02-17    260\n",
       "2019-02-18    405\n",
       "2019-02-19    412\n",
       "2019-02-20    343\n",
       "2019-02-21    358\n",
       "2019-02-22    374\n",
       "2019-02-23    161\n",
       "2019-02-24    480\n",
       "2019-02-25    409\n",
       "2019-02-26    558\n",
       "2019-02-27    989\n",
       "2019-02-28    373\n",
       "Freq: D, dtype: int32"
      ]
     },
     "execution_count": 29,
     "metadata": {},
     "output_type": "execute_result"
    }
   ],
   "source": [
    "longer_df.loc['2019-02']"
   ]
  },
  {
   "cell_type": "code",
   "execution_count": 30,
   "id": "50630c14",
   "metadata": {
    "ExecuteTime": {
     "end_time": "2022-03-27T18:37:44.993356Z",
     "start_time": "2022-03-27T18:37:44.978411Z"
    }
   },
   "outputs": [
    {
     "data": {
      "text/plain": [
       "2019-06-01    979\n",
       "2019-06-02    550\n",
       "2019-06-03    845\n",
       "2019-06-04    417\n",
       "2019-06-05     53\n",
       "             ... \n",
       "2019-09-26    794\n",
       "2019-09-27     72\n",
       "2019-09-28    466\n",
       "2019-09-29    802\n",
       "2019-09-30    431\n",
       "Freq: D, Length: 122, dtype: int32"
      ]
     },
     "execution_count": 30,
     "metadata": {},
     "output_type": "execute_result"
    }
   ],
   "source": [
    "longer_df.loc['2019-06-01' : '2019-09-30']  "
   ]
  },
  {
   "cell_type": "code",
   "execution_count": null,
   "id": "989ca6c5",
   "metadata": {},
   "outputs": [],
   "source": []
  }
 ],
 "metadata": {
  "kernelspec": {
   "display_name": "Python 3 (ipykernel)",
   "language": "python",
   "name": "python3"
  },
  "language_info": {
   "codemirror_mode": {
    "name": "ipython",
    "version": 3
   },
   "file_extension": ".py",
   "mimetype": "text/x-python",
   "name": "python",
   "nbconvert_exporter": "python",
   "pygments_lexer": "ipython3",
   "version": "3.9.7"
  },
  "toc": {
   "base_numbering": 1,
   "nav_menu": {},
   "number_sections": true,
   "sideBar": true,
   "skip_h1_title": false,
   "title_cell": "Table of Contents",
   "title_sidebar": "Contents",
   "toc_cell": false,
   "toc_position": {},
   "toc_section_display": true,
   "toc_window_display": true
  },
  "varInspector": {
   "cols": {
    "lenName": 16,
    "lenType": 16,
    "lenVar": 40
   },
   "kernels_config": {
    "python": {
     "delete_cmd_postfix": "",
     "delete_cmd_prefix": "del ",
     "library": "var_list.py",
     "varRefreshCmd": "print(var_dic_list())"
    },
    "r": {
     "delete_cmd_postfix": ") ",
     "delete_cmd_prefix": "rm(",
     "library": "var_list.r",
     "varRefreshCmd": "cat(var_dic_list()) "
    }
   },
   "types_to_exclude": [
    "module",
    "function",
    "builtin_function_or_method",
    "instance",
    "_Feature"
   ],
   "window_display": false
  }
 },
 "nbformat": 4,
 "nbformat_minor": 5
}
